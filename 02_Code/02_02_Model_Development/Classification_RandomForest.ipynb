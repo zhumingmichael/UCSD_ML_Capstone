{
 "cells": [
  {
   "cell_type": "code",
   "execution_count": 2,
   "id": "b56f0bbe",
   "metadata": {},
   "outputs": [],
   "source": [
    "%reset -f\n",
    "\n",
    "import os\n",
    "import numpy as np\n",
    "import pandas as pd\n",
    "import re\n",
    "from datetime import datetime as DT\n",
    "## sklearns\n",
    "from sklearn.ensemble import RandomForestClassifier\n",
    "from sklearn.metrics import classification_report, confusion_matrix,\\\n",
    "    f1_score, accuracy_score, roc_auc_score, roc_curve\n",
    "from sklearn.preprocessing import LabelEncoder\n",
    "from sklearn.model_selection import train_test_split\n",
    "from sklearn.model_selection import GridSearchCV, cross_validate\n",
    "    \n",
    "sMyPath = r'C:\\UCSD_ML_Capstone'\n",
    "os.chdir(sMyPath)\n"
   ]
  },
  {
   "cell_type": "code",
   "execution_count": 3,
   "id": "6ec34f36",
   "metadata": {},
   "outputs": [],
   "source": [
    "#### Import Data\n",
    "##### Feature Generation #####\n",
    "### Return the file names\n",
    "# from os import listdir\n",
    "# from os.path import isfile, join\n",
    "\n",
    "datapath = sMyPath + r'\\01_Input\\01_03_ProcessedData\\Tiingo_Stock_daily_Transformed'\n",
    "# AvaTickers_df = pd.read_csv(sMyPath + r\"\\01_Input\\01_01_DataCodes\\Stock_Techonology_Semiconductors.csv\")\n",
    "# AvaTickers  = AvaTickers_df..values\n",
    "AvaTickers_df = pd.read_csv(sMyPath + r\"\\01_Input\\01_01_DataCodes\\sNA_Select_Tickers.csv\")\n",
    "AvaTickers = AvaTickers_df[(AvaTickers_df.Sector=='Technology')&(AvaTickers_df.Industry=='Semiconductors')].Tickers.values"
   ]
  },
  {
   "cell_type": "code",
   "execution_count": 4,
   "id": "09139bee",
   "metadata": {},
   "outputs": [],
   "source": [
    "#### 0. Functions Define ####\n",
    "def RandomForestCustomize(y, X, n_estimators = 100, max_depth=6,\\\n",
    "                      criterion = 'gini', ifcv=False, cvsize = 10):\n",
    "\n",
    "    # X_train, X_test, y_train, y_test = train_test_split(X,y,test_size=0.2)\n",
    "    cutpoint = int(np.floor(X.shape[0] * 0.8))\n",
    "    X_train = X.iloc[:cutpoint,:]\n",
    "    X_test = X.iloc[cutpoint:,:]\n",
    "    y_train = y.iloc[:cutpoint]\n",
    "    y_test = y.iloc[cutpoint:]\n",
    "    \n",
    "    RFClf = RandomForestClassifier(n_estimators=n_estimators,\\\n",
    "                                   max_depth=max_depth, criterion=criterion)\n",
    "    RFClf.fit(X_train, y_train)\n",
    "    \n",
    "    y_test_pred = RFClf.predict(X_test)\n",
    "\n",
    "    Conf_Mat_tmp = confusion_matrix(y_test, y_test_pred)\n",
    "    Reports_tmp = classification_report(y_test, y_test_pred)\n",
    "    Accu_tmp = accuracy_score(y_test, y_test_pred)\n",
    "    try:\n",
    "        F1_tmp = f1_score(y_test, y_test_pred)\n",
    "    except ValueError:\n",
    "        F1_tmp = 0\n",
    "\n",
    "    if ifcv:\n",
    "        cv_results = cross_validate(RFClf, X, y, cv=cvsize)\n",
    "        cv_score = cv_results['test_score'].mean()\n",
    "    else:\n",
    "        cv_score = 0\n",
    "        \n",
    "    return([Accu_tmp, Conf_Mat_tmp, Reports_tmp, F1_tmp, cv_score])"
   ]
  },
  {
   "cell_type": "code",
   "execution_count": 5,
   "id": "5e4cb780",
   "metadata": {},
   "outputs": [],
   "source": [
    "#### 1. Data clean and process ####\n",
    "Var_Q = 5/100\n",
    "\n",
    "TickerStart = 0\n",
    "iTicker = TickerStart\n",
    "Conf_Mat_df = list()\n",
    "Reports_df = list()\n",
    "Accu_df = list()\n",
    "F1_df = list()\n",
    "cv_score_df = list()\n",
    "ifcv, cvsize = (True, 10)\n"
   ]
  },
  {
   "cell_type": "code",
   "execution_count": 6,
   "id": "0a967b5c",
   "metadata": {},
   "outputs": [
    {
     "name": "stdout",
     "output_type": "stream",
     "text": [
      "Running ADI 1/15\n",
      "Running ADI 2/15\n"
     ]
    },
    {
     "name": "stderr",
     "output_type": "stream",
     "text": [
      "D:\\Anaconda3\\lib\\site-packages\\sklearn\\metrics\\_classification.py:1221: UndefinedMetricWarning: Precision and F-score are ill-defined and being set to 0.0 in labels with no predicted samples. Use `zero_division` parameter to control this behavior.\n",
      "  _warn_prf(average, modifier, msg_start, len(result))\n"
     ]
    },
    {
     "name": "stdout",
     "output_type": "stream",
     "text": [
      "Running ADI 3/15\n",
      "Running ADI 4/15\n",
      "Running ADI 5/15\n"
     ]
    },
    {
     "name": "stderr",
     "output_type": "stream",
     "text": [
      "D:\\Anaconda3\\lib\\site-packages\\sklearn\\metrics\\_classification.py:1221: UndefinedMetricWarning: Precision and F-score are ill-defined and being set to 0.0 in labels with no predicted samples. Use `zero_division` parameter to control this behavior.\n",
      "  _warn_prf(average, modifier, msg_start, len(result))\n"
     ]
    },
    {
     "name": "stdout",
     "output_type": "stream",
     "text": [
      "Running ADI 6/15\n",
      "Running ADI 7/15\n",
      "Running ADI 8/15\n",
      "Running ADI 9/15\n",
      "Running ADI 10/15\n"
     ]
    },
    {
     "name": "stderr",
     "output_type": "stream",
     "text": [
      "D:\\Anaconda3\\lib\\site-packages\\sklearn\\metrics\\_classification.py:1221: UndefinedMetricWarning: Precision and F-score are ill-defined and being set to 0.0 in labels with no predicted samples. Use `zero_division` parameter to control this behavior.\n",
      "  _warn_prf(average, modifier, msg_start, len(result))\n"
     ]
    },
    {
     "name": "stdout",
     "output_type": "stream",
     "text": [
      "Running ADI 11/15\n",
      "Running ADI 12/15\n",
      "Running ADI 13/15\n",
      "Running ADI 14/15\n",
      "Running ADI 15/15\n"
     ]
    },
    {
     "name": "stderr",
     "output_type": "stream",
     "text": [
      "D:\\Anaconda3\\lib\\site-packages\\sklearn\\metrics\\_classification.py:1221: UndefinedMetricWarning: Precision and F-score are ill-defined and being set to 0.0 in labels with no predicted samples. Use `zero_division` parameter to control this behavior.\n",
      "  _warn_prf(average, modifier, msg_start, len(result))\n"
     ]
    },
    {
     "name": "stdout",
     "output_type": "stream",
     "text": [
      "Done No.1 ADI;\n",
      "Loop time:0:33:28.976279\n",
      "Total time:0:33:28.976279\n",
      "Average time:0:33:28.976279\n",
      "Estimate end:2022-01-01 07:20:08.945107\n",
      "\n"
     ]
    }
   ],
   "source": [
    "S_time = DT.now()\n",
    "iTicker = 0 \n",
    "\n",
    "  \n",
    "Loop_start = DT.now()\n",
    "\n",
    "Ticker = AvaTickers[iTicker]\n",
    "\n",
    "DataRaw = pd.read_pickle(datapath + r'\\\\'+ Ticker + r'_tsfresh.zip')\n",
    "df = DataRaw.loc[:,[not bool(re.search('duplicate', x))\\\n",
    "                    for x in DataRaw.columns]].copy()\n",
    "\n",
    "df = df.replace([np.inf, -np.inf], np.nan)\n",
    "df = df.dropna(axis = 1)\n",
    "\n",
    "### 1. Data initialization\n",
    "## Daily\n",
    "# Return\n",
    "Ret_D_clf2 = df.Ret_D.copy()\n",
    "Ret_D_clf2[df.Ret_D >= 0] = 1\n",
    "Ret_D_clf2[df.Ret_D < 0] = 0\n",
    "\n",
    "Ret_D_clf3 = df.Ret_D.copy()\n",
    "Ret_D_clf3[df.Ret_D >= df.Ret_D.mean() + df.Ret_D.std()] = 1\n",
    "Ret_D_clf3[df.Ret_D <= df.Ret_D.mean() - df.Ret_D.std()] = 2\n",
    "Ret_D_clf3[(df.Ret_D > df.Ret_D.mean() - df.Ret_D.std())\\\n",
    "           & (df.Ret_D<=df.Ret_D.mean() + df.Ret_D.std())] = 0\n",
    "\n",
    "Ret_D_clfVaR = df.Ret_D.copy()\n",
    "Ret_D_clfVaR[df.Ret_D > df.Ret_D.quantile(Var_Q)] = 0\n",
    "Ret_D_clfVaR[df.Ret_D <= df.Ret_D.mean() - df.Ret_D.std()] = 1\n",
    "# Volatility\n",
    "Vol_D_clf2 = df.Vol_D.copy()\n",
    "Vol_D_clf2[df.Vol_D >= df.Vol_D.mean()] = 1\n",
    "Vol_D_clf2[df.Vol_D < df.Vol_D.mean()] = 0\n",
    "\n",
    "Vol_D_clf3 = df.Vol_D.copy()\n",
    "Vol_D_clf3[df.Vol_D >= np.quantile(df.Vol_D, 0.95)] = 1\n",
    "Vol_D_clf3[df.Vol_D <= np.quantile(df.Vol_D, 0.05)] = 2\n",
    "Vol_D_clf3[(df.Vol_D > np.quantile(df.Vol_D, 0.05))\\\n",
    "           & (df.Vol_D<=np.quantile(df.Vol_D, 0.95))] = 0\n",
    "\n",
    "## Weekly\n",
    "# Return\n",
    "Ret_W_clf2 = df.Ret_W.copy()\n",
    "Ret_W_clf2[df.Ret_W >= 0] = 1\n",
    "Ret_W_clf2[df.Ret_W < 0] = 0\n",
    "\n",
    "Ret_W_clf3 = df.Ret_W.copy()\n",
    "Ret_W_clf3[df.Ret_W >= df.Ret_W.mean() + df.Ret_W.std()] = 1\n",
    "Ret_W_clf3[df.Ret_W <= df.Ret_W.mean() - df.Ret_W.std()] = 2\n",
    "Ret_W_clf3[(df.Ret_W > df.Ret_W.mean() - df.Ret_W.std())\\\n",
    "           & (df.Ret_W<=df.Ret_W.mean() + df.Ret_W.std())] = 0\n",
    "\n",
    "Ret_W_clfVaR = df.Ret_W.copy()\n",
    "Ret_W_clfVaR[df.Ret_W > df.Ret_W.quantile(Var_Q)] = 0\n",
    "Ret_W_clfVaR[df.Ret_W <= df.Ret_W.mean() - df.Ret_W.std()] = 1\n",
    "# Volatility\n",
    "Vol_W_clf2 = df.Vol_W.copy()\n",
    "Vol_W_clf2[df.Vol_W >= df.Vol_W.mean()] = 1\n",
    "Vol_W_clf2[df.Vol_W < df.Vol_W.mean()] = 0\n",
    "\n",
    "Vol_W_clf3 = df.Vol_W.copy()\n",
    "Vol_W_clf3[df.Vol_W >= np.quantile(df.Vol_W, 0.95)] = 1\n",
    "Vol_W_clf3[df.Vol_W <= np.quantile(df.Vol_W, 0.05)] = 2\n",
    "Vol_W_clf3[(df.Vol_W > np.quantile(df.Vol_W, 0.05))\\\n",
    "           & (df.Vol_W<=np.quantile(df.Vol_W, 0.95))] = 0\n",
    "\n",
    "## Monthly\n",
    "# Return\n",
    "Ret_M_clf2 = df.Ret_M.copy()\n",
    "Ret_M_clf2[df.Ret_M >= 0] = 1\n",
    "Ret_M_clf2[df.Ret_M < 0] = 0\n",
    "\n",
    "Ret_M_clf3 = df.Ret_M.copy()\n",
    "Ret_M_clf3[df.Ret_M >= df.Ret_M.mean() + df.Ret_M.std()] = 1\n",
    "Ret_M_clf3[df.Ret_M <= df.Ret_M.mean() - df.Ret_M.std()] = 2\n",
    "Ret_M_clf3[(df.Ret_M > df.Ret_M.mean() - df.Ret_M.std())\\\n",
    "           & (df.Ret_M<=df.Ret_M.mean() + df.Ret_M.std())] = 0\n",
    "\n",
    "Ret_M_clfVaR = df.Ret_M.copy()\n",
    "Ret_M_clfVaR[df.Ret_M > df.Ret_M.quantile(Var_Q)] = 0\n",
    "Ret_M_clfVaR[df.Ret_M <= df.Ret_M.mean() - df.Ret_M.std()] = 1\n",
    "# Volatility\n",
    "Vol_M_clf2 = df.Vol_M.copy()\n",
    "Vol_M_clf2[df.Vol_M >= df.Vol_M.mean()] = 1\n",
    "Vol_M_clf2[df.Vol_M < df.Vol_M.mean()] = 0\n",
    "\n",
    "Vol_M_clf3 = df.Vol_M.copy()\n",
    "Vol_M_clf3[df.Vol_M >= np.quantile(df.Vol_M, 0.95)] = 1\n",
    "Vol_M_clf3[df.Vol_M <= np.quantile(df.Vol_M, 0.05)] = 2\n",
    "Vol_M_clf3[(df.Vol_M > np.quantile(df.Vol_M, 0.05))\\\n",
    "           & (df.Vol_M<=np.quantile(df.Vol_M, 0.95))] = 0\n",
    "\n",
    "## Construct lag ys\n",
    "df['Ret_D_clf2'] = Ret_D_clf2\n",
    "df['Ret_D_clf3'] = Ret_D_clf3\n",
    "df['Ret_D_clfVaR'] = Ret_D_clfVaR\n",
    "df['Vol_D_clf2'] = Vol_D_clf2\n",
    "df['Vol_D_clf3'] = Vol_D_clf3\n",
    "\n",
    "df['Ret_W_clf2'] = Ret_W_clf2\n",
    "df['Ret_W_clf3'] = Ret_W_clf3\n",
    "df['Ret_W_clfVaR'] = Ret_W_clfVaR\n",
    "df['Vol_W_clf2'] = Vol_W_clf2\n",
    "df['Vol_W_clf3'] = Vol_W_clf3\n",
    "\n",
    "df['Ret_M_clf2'] = Ret_M_clf2\n",
    "df['Ret_M_clf3'] = Ret_M_clf3\n",
    "df['Ret_M_clfVaR'] = Ret_M_clfVaR\n",
    "df['Vol_M_clf2'] = Vol_M_clf2\n",
    "df['Vol_M_clf3'] = Vol_M_clf3\n",
    "\n",
    "## Construct ys\n",
    "df['y_Ret_D_clf2'] = Ret_D_clf2.shift(-1)\n",
    "df['y_Ret_D_clf3'] = Ret_D_clf3.shift(-1)\n",
    "df['y_Ret_D_clfVaR'] = Ret_D_clfVaR.shift(-1)\n",
    "df['y_Vol_D_clf2'] = Vol_D_clf2.shift(-1)\n",
    "df['y_Vol_D_clf3'] = Vol_D_clf3.shift(-1)\n",
    "\n",
    "df['y_Ret_W_clf2'] = Ret_W_clf2.shift(-5)\n",
    "df['y_Ret_W_clf3'] = Ret_W_clf3.shift(-5)\n",
    "df['y_Ret_W_clfVaR'] = Ret_W_clfVaR.shift(-5)\n",
    "df['y_Vol_W_clf2'] = Vol_W_clf2.shift(-5)\n",
    "df['y_Vol_W_clf3'] = Vol_W_clf3.shift(-5)\n",
    "\n",
    "df['y_Ret_M_clf2'] = Ret_M_clf2.shift(-21)\n",
    "df['y_Ret_M_clf3'] = Ret_M_clf3.shift(-21)\n",
    "df['y_Ret_M_clfVaR'] = Ret_M_clfVaR.shift(-21)\n",
    "df['y_Vol_M_clf2'] = Vol_M_clf2.shift(-21)\n",
    "df['y_Vol_M_clf3'] = Vol_M_clf3.shift(-21)\n",
    "\n",
    "df = df.dropna()\n",
    "\n",
    "y_features = ['y_Ret_D_clf2', 'y_Ret_D_clf3', 'y_Ret_D_clfVaR','y_Vol_D_clf2','y_Vol_D_clf3',\n",
    "              'y_Ret_W_clf2', 'y_Ret_W_clf3', 'y_Ret_W_clfVaR','y_Vol_D_clf2','y_Vol_D_clf3',\n",
    "              'y_Ret_M_clf2', 'y_Ret_M_clf3', 'y_Ret_M_clfVaR','y_Vol_D_clf2','y_Vol_D_clf3']\n",
    "\n",
    "\n",
    "#### 2. RUn the models ####\n",
    "X = df.copy()\n",
    "X = X.drop(y_features,axis = 1)\n",
    "Conf_Mat_list = list()\n",
    "Reports_list = list()\n",
    "Accu_list = list()\n",
    "F1_list = list()\n",
    "cv_score_list = list()\n",
    "\n",
    "\n",
    "iy = 0\n",
    "for iy in range(len(y_features)):\n",
    "    print(r\"Running \" + Ticker + r\" \" + str(iy+1) + r\"/\" + str(len(y_features)))\n",
    "    # y = df.y_Ret_W_clf2\n",
    "    # y = df.y_Ret_W_clf3\n",
    "    # y = df.y_Ret_W_clfVaR\n",
    "    y = df[y_features[iy]]\n",
    "\n",
    "    [Accu_tmp, Conf_Mat_tmp, Reports_tmp, F1_tmp, cv_score] = \\\n",
    "        RandomForestCustomize(y, X, n_estimators = 100, max_depth=6,\\\n",
    "                  criterion = 'gini', ifcv=ifcv, cvsize = cvsize)\n",
    "\n",
    "    Accu_list.append(Accu_tmp)\n",
    "    Conf_Mat_list.append(Conf_Mat_tmp)\n",
    "    Reports_list.append(Reports_tmp)\n",
    "    F1_list.append(F1_tmp)\n",
    "    cv_score_list.append(cv_score)\n",
    "\n",
    "\n",
    "Accu_list = pd.Series(Accu_list)\n",
    "Conf_Mat_list = pd.Series(Conf_Mat_list)\n",
    "Reports_list = pd.Series(Reports_list)\n",
    "F1_list = pd.Series(F1_list)\n",
    "cv_score_list = pd.Series(cv_score_list)\n",
    "\n",
    "\n",
    "indexnames = ['D_PosiNega', 'D_BullBear', 'D_VaR', 'D_Vol2', 'D_Vol3',\n",
    "              'W_PosiNega', 'W_BullBear', 'W_VaR', 'W_Vol2', 'W_Vol3',\n",
    "              'M_PosiNega', 'M_BullBear', 'M_VaR', 'M_Vol2', 'M_Vol3']\n",
    "\n",
    "Accu_list.name = Ticker + r'_Accuracy_Score'\n",
    "Accu_list.index = indexnames\n",
    "Conf_Mat_list.name = Ticker + r'_Confusion_Matrix'\n",
    "Conf_Mat_list.index = indexnames\n",
    "Reports_list.name = Ticker + r'_Clf_Report'\n",
    "Reports_list.index = indexnames\n",
    "F1_list.name = Ticker + r'_F1_Score'\n",
    "F1_list.index = indexnames\n",
    "cv_score_list.name = Ticker + r'_CV_Score'\n",
    "cv_score_list.index = indexnames\n",
    "\n",
    "\n",
    "# Output\n",
    "if len(Conf_Mat_df) < 1:\n",
    "    Accu_df = Accu_list\n",
    "    Conf_Mat_df = Conf_Mat_list\n",
    "    Reports_df = Reports_list\n",
    "    F1_df = F1_list\n",
    "    cv_score_df = cv_score_list\n",
    "else:\n",
    "    Conf_Mat_df = pd.concat([Conf_Mat_df, Conf_Mat_list], axis=1)\n",
    "    Reports_df = pd.concat([Reports_df, Reports_list], axis=1)\n",
    "    Accu_df = pd.concat([Accu_df, Accu_list], axis=1)\n",
    "    F1_df = pd.concat([F1_df, F1_list], axis=1)\n",
    "    cv_score_df = pd.concat([cv_score_df, cv_score_list], axis=1)\n",
    "\n",
    "## Estimate finish time\n",
    "Loop_end = DT.now()\n",
    "LoopTime = Loop_end-Loop_start\n",
    "TotalTime = Loop_end-S_time\n",
    "AvgTime = (TotalTime)/(iTicker -TickerStart +1)\n",
    "EstEnd = DT.now() + (len(AvaTickers) - iTicker - TickerStart - 1)*AvgTime\n",
    "\n",
    "# AvgSeries[iTicker] = AvgTime\n",
    "# EstEndSeries[iTicker] = EstEnd\n",
    "print('Done No.'+ str(iTicker+1) + \" \" +Ticker+ \";\\n\" +\n",
    "      \"Loop time:\" + str(LoopTime) + \"\\n\" +\n",
    "      \"Total time:\" + str(TotalTime) + \"\\n\" +\n",
    "      \"Average time:\" + str(AvgTime) + \"\\n\" +\n",
    "      \"Estimate end:\" + str(EstEnd) + '\\n'  )\n"
   ]
  },
  {
   "cell_type": "code",
   "execution_count": 7,
   "id": "c489889f",
   "metadata": {},
   "outputs": [
    {
     "data": {
      "text/plain": [
       "D_PosiNega                    [[73, 187], [86, 212]]\n",
       "D_BullBear     [[379, 0, 0], [89, 0, 0], [90, 0, 0]]\n",
       "D_VaR                            [[468, 0], [89, 1]]\n",
       "D_Vol2                        [[369, 10], [166, 13]]\n",
       "D_Vol3         [[477, 0, 0], [58, 0, 0], [23, 0, 0]]\n",
       "W_PosiNega                    [[47, 200], [40, 271]]\n",
       "W_BullBear    [[383, 0, 1], [79, 11, 0], [83, 0, 1]]\n",
       "W_VaR                           [[451, 23], [75, 9]]\n",
       "W_Vol2                          [[376, 3], [172, 7]]\n",
       "W_Vol3         [[477, 0, 0], [58, 0, 0], [23, 0, 0]]\n",
       "M_PosiNega                    [[55, 137], [81, 285]]\n",
       "M_BullBear     [[394, 0, 1], [87, 9, 0], [67, 0, 0]]\n",
       "M_VaR                           [[461, 30], [58, 9]]\n",
       "M_Vol2                          [[379, 0], [178, 1]]\n",
       "M_Vol3         [[474, 3, 0], [58, 0, 0], [23, 0, 0]]\n",
       "Name: ADI_Confusion_Matrix, dtype: object"
      ]
     },
     "execution_count": 7,
     "metadata": {},
     "output_type": "execute_result"
    }
   ],
   "source": [
    "Conf_Mat_df"
   ]
  },
  {
   "cell_type": "code",
   "execution_count": 8,
   "id": "c6062c91",
   "metadata": {},
   "outputs": [
    {
     "data": {
      "text/plain": [
       "D_PosiNega                  precision    recall  f1-score   ...\n",
       "D_BullBear                  precision    recall  f1-score   ...\n",
       "D_VaR                       precision    recall  f1-score   ...\n",
       "D_Vol2                      precision    recall  f1-score   ...\n",
       "D_Vol3                      precision    recall  f1-score   ...\n",
       "W_PosiNega                  precision    recall  f1-score   ...\n",
       "W_BullBear                  precision    recall  f1-score   ...\n",
       "W_VaR                       precision    recall  f1-score   ...\n",
       "W_Vol2                      precision    recall  f1-score   ...\n",
       "W_Vol3                      precision    recall  f1-score   ...\n",
       "M_PosiNega                  precision    recall  f1-score   ...\n",
       "M_BullBear                  precision    recall  f1-score   ...\n",
       "M_VaR                       precision    recall  f1-score   ...\n",
       "M_Vol2                      precision    recall  f1-score   ...\n",
       "M_Vol3                      precision    recall  f1-score   ...\n",
       "Name: ADI_Clf_Report, dtype: object"
      ]
     },
     "execution_count": 8,
     "metadata": {},
     "output_type": "execute_result"
    }
   ],
   "source": [
    "Reports_df"
   ]
  },
  {
   "cell_type": "code",
   "execution_count": 9,
   "id": "f5d4b243",
   "metadata": {},
   "outputs": [
    {
     "data": {
      "text/plain": [
       "D_PosiNega    0.510753\n",
       "D_BullBear    0.679211\n",
       "D_VaR         0.840502\n",
       "D_Vol2        0.684588\n",
       "D_Vol3        0.854839\n",
       "W_PosiNega    0.569892\n",
       "W_BullBear    0.707885\n",
       "W_VaR         0.824373\n",
       "W_Vol2        0.686380\n",
       "W_Vol3        0.854839\n",
       "M_PosiNega    0.609319\n",
       "M_BullBear    0.722222\n",
       "M_VaR         0.842294\n",
       "M_Vol2        0.681004\n",
       "M_Vol3        0.849462\n",
       "Name: ADI_Accuracy_Score, dtype: float64"
      ]
     },
     "execution_count": 9,
     "metadata": {},
     "output_type": "execute_result"
    }
   ],
   "source": [
    "Accu_df"
   ]
  },
  {
   "cell_type": "code",
   "execution_count": 10,
   "id": "f1e16081",
   "metadata": {},
   "outputs": [
    {
     "data": {
      "text/plain": [
       "D_PosiNega    0.608321\n",
       "D_BullBear    0.000000\n",
       "D_VaR         0.021978\n",
       "D_Vol2        0.128713\n",
       "D_Vol3        0.000000\n",
       "W_PosiNega    0.693095\n",
       "W_BullBear    0.000000\n",
       "W_VaR         0.155172\n",
       "W_Vol2        0.074074\n",
       "W_Vol3        0.000000\n",
       "M_PosiNega    0.723350\n",
       "M_BullBear    0.000000\n",
       "M_VaR         0.169811\n",
       "M_Vol2        0.011111\n",
       "M_Vol3        0.000000\n",
       "Name: ADI_F1_Score, dtype: float64"
      ]
     },
     "execution_count": 10,
     "metadata": {},
     "output_type": "execute_result"
    }
   ],
   "source": [
    "F1_df"
   ]
  },
  {
   "cell_type": "code",
   "execution_count": 11,
   "id": "4b78e516",
   "metadata": {},
   "outputs": [
    {
     "data": {
      "text/plain": [
       "D_PosiNega    0.498038\n",
       "D_BullBear    0.620193\n",
       "D_VaR         0.813937\n",
       "D_Vol2        0.520573\n",
       "D_Vol3        0.866272\n",
       "W_PosiNega    0.523120\n",
       "W_BullBear    0.673380\n",
       "W_VaR         0.825757\n",
       "W_Vol2        0.548608\n",
       "W_Vol3        0.870215\n",
       "M_PosiNega    0.495552\n",
       "M_BullBear    0.645058\n",
       "M_VaR         0.784897\n",
       "M_Vol2        0.521719\n",
       "M_Vol3        0.864838\n",
       "Name: ADI_CV_Score, dtype: float64"
      ]
     },
     "execution_count": 11,
     "metadata": {},
     "output_type": "execute_result"
    }
   ],
   "source": [
    "cv_score_df"
   ]
  }
 ],
 "metadata": {
  "kernelspec": {
   "display_name": "Python 3 (ipykernel)",
   "language": "python",
   "name": "python3"
  },
  "language_info": {
   "codemirror_mode": {
    "name": "ipython",
    "version": 3
   },
   "file_extension": ".py",
   "mimetype": "text/x-python",
   "name": "python",
   "nbconvert_exporter": "python",
   "pygments_lexer": "ipython3",
   "version": "3.8.8"
  }
 },
 "nbformat": 4,
 "nbformat_minor": 5
}
