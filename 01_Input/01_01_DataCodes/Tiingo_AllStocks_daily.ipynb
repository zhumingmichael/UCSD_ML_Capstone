{
 "cells": [
  {
   "cell_type": "markdown",
   "id": "e49a7930",
   "metadata": {},
   "source": [
    "## Project Data Download-Tiingo Data Download\n",
    "### Context\n",
    "Machine learning is widely used in financial trading strategy development. Technical data is the most common financial data to development forecasting model in financial industry.\n",
    "### Content\n",
    "In this section, I download the technical data for all stocks from NYSE and NASDAQ which are available on Tiingo by using the Tiingo API.\n",
    "The relevant website is:https://www.tiingo.com/"
   ]
  },
  {
   "cell_type": "markdown",
   "id": "7d1eea0d",
   "metadata": {},
   "source": [
    "#### 1. Module initialization"
   ]
  },
  {
   "cell_type": "code",
   "execution_count": 2,
   "id": "e39cee43",
   "metadata": {},
   "outputs": [],
   "source": [
    "import requests\n",
    "import pandas as pd\n",
    "import numpy as np\n",
    "from datetime import datetime as DT\n",
    "from datetime import timedelta\n",
    "import os\n",
    "from time import sleep\n",
    "from itertools import chain"
   ]
  },
  {
   "cell_type": "markdown",
   "id": "b1acf530",
   "metadata": {},
   "source": [
    "#### 2. Initial Setting"
   ]
  },
  {
   "cell_type": "code",
   "execution_count": 4,
   "id": "9308b94e",
   "metadata": {},
   "outputs": [],
   "source": [
    "os.chdir(r'C:\\UCSD_ML_Capstone\\01_Input')\n",
    "StockAll = pd.read_excel('./01_1_DataCodes/AllTickers_20211018.xlsx')\n",
    "StockTickers  = list(chain(*StockAll.values))\n",
    "Token2 = 'ddff0c680755cd0a68288e345d4e422e30e2c07b'\n",
    "TokenList = [Token2]\n",
    "\n",
    "## Request daily data\n",
    "token_num = 0\n",
    "Token = TokenList[token_num]\n",
    "TotalTime = 0\n",
    "ErrorTicker = []\n",
    "headers = { 'Content-Type': 'application/json' }"
   ]
  },
  {
   "cell_type": "markdown",
   "id": "cefc3e4a",
   "metadata": {},
   "source": [
    "#### 3. Request Setting"
   ]
  },
  {
   "cell_type": "code",
   "execution_count": 5,
   "id": "9c433c2f",
   "metadata": {},
   "outputs": [],
   "source": [
    "S_time = DT.now()\n",
    "start_iTicker = 0\n",
    "i_token = 0\n",
    "## Avoid data request overwhelming, add some pause points\n",
    "wait_itoken = 1400\n",
    "sleepseconds = 60*10"
   ]
  },
  {
   "cell_type": "markdown",
   "id": "b1e879c5",
   "metadata": {},
   "source": [
    "#### 4. Data Request"
   ]
  },
  {
   "cell_type": "code",
   "execution_count": null,
   "id": "6a3d4e63",
   "metadata": {},
   "outputs": [],
   "source": [
    "for iTicker in range(start_iTicker,len(StockTickers)):\n",
    "# for iTicker in range(4583,len(StockTickers)):    \n",
    "    i_token += 1\n",
    "    if i_token > wait_itoken:\n",
    "        print(\"Out of token at \" + str(token_num))\n",
    "        print('Awake at '+ str(DT.now() + timedelta(seconds=sleepseconds)) )\n",
    "        sleep(sleepseconds)\n",
    "    \n",
    "    Ticker = StockTickers[iTicker]\n",
    "    Loop_start = DT.now()   \n",
    "    \n",
    "    try:     # try whether the ticker is available\n",
    "        try:    # try whether existing historical data\n",
    "            Current = pd.read_excel(\"./01_2_RawData/Tiingo_Stock_daily/\" + Ticker + \"_daily.xlsx\")\n",
    "    \n",
    "            LastTime = Current.date[len(Current.date)-1]\n",
    "            LastTime = LastTime[0:10]\n",
    "            \n",
    "            reqdata = requests.get(\"https://api.tiingo.com/tiingo/daily/\"+Ticker+\"/\"+\\\n",
    "                                    \"prices?startDate=\"+LastTime+\"&\"+\\\n",
    "                                    \"columns=open,high,low,close,volume,adjOpen,adjHigh,adjLow,adjClose,adjVolume,divCash,splitFactor&\"+\\\n",
    "                                    \"token=\"+Token, headers=headers)\n",
    "        \n",
    "            lIntraday = pd.DataFrame(reqdata.json())\n",
    "            \n",
    "            NewData = pd.concat([Current, lIntraday], axis = 0)\n",
    "            NewData = NewData.drop_duplicates(keep ='last')\n",
    "        \n",
    "        except FileNotFoundError:\n",
    "                        \n",
    "            reqdata = requests.get(\"https://api.tiingo.com/tiingo/daily/\"+Ticker+\"/\"+\\\n",
    "                               \"prices?startDate=2000-01-01&\"+\\\n",
    "                                \"columns=open,high,low,close,volume,adjOpen,adjHigh,adjLow,adjClose,adjVolume,divCash,splitFactor&\"+\\\n",
    "                               \"token=\"+Token, headers=headers)\n",
    "\n",
    "            NewData = pd.DataFrame(reqdata.json())\n",
    "        \n",
    "        sleepseconds2 = 1\n",
    "        sleep(sleepseconds2)\n",
    "\n",
    "        # save data\n",
    "        NewData.to_excel(\"./01_2_RawData/Tiingo_Stock_daily/\" + Ticker + \"_daily.xlsx\",index=False)\n",
    "\n",
    "        # calculate the estimated finish time\n",
    "        Loop_end = DT.now()\n",
    "        LoopTime = Loop_end-Loop_start\n",
    "        TotalTime = Loop_end-S_time\n",
    "        AvgTime = (TotalTime- timedelta(seconds=sleepseconds * ((iTicker-1)//wait_itoken) ) )\\\n",
    "            /(iTicker-start_iTicker+1)\n",
    "        EstEnd = DT.now() + (len(StockTickers) - iTicker - 1)*AvgTime +\\\n",
    "            timedelta(seconds=sleepseconds * ((len(StockTickers) - iTicker - 1)//wait_itoken) )\n",
    "        print('Done No.'+ str(iTicker+1) + \\\n",
    "               \" \" +Ticker+\\\n",
    "              \"; Loop time:\" + str(LoopTime) +\\\n",
    "              \"; Total time:\" + str(TotalTime) + \\\n",
    "              \"; Average time:\" + str(AvgTime) +\\\n",
    "              \"; Estimate end:\" + str(EstEnd) + '\\n'  )\n",
    "\n",
    "    except ValueError:     # output the unavailable ticker list\n",
    "        print('Done No.'+ str(iTicker+1) +' '+Ticker + ' is unavailable.')\n",
    "        ErrorTicker.append(Ticker)\n",
    "        continue   "
   ]
  },
  {
   "cell_type": "markdown",
   "id": "d61871b0",
   "metadata": {},
   "source": [
    "#### 5.Outputs"
   ]
  },
  {
   "cell_type": "code",
   "execution_count": null,
   "id": "f2f844cd",
   "metadata": {},
   "outputs": [],
   "source": [
    "## Unavailable ticker list\n",
    "pd.Series(ErrorTicker).to_excel(\"./01_2_RawData/Tiingo_Stock_daily/\" + \"ErrorTicker_daily.xlsx\", index=False)\n",
    "## ID of the last run ticker\n",
    "pd.Series(iTicker).to_excel(\"./01_2_RawData/Tiingo_Stock_daily/\" + \"iTicker_daily.xlsx\", index=False)"
   ]
  }
 ],
 "metadata": {
  "kernelspec": {
   "display_name": "Python 3 (ipykernel)",
   "language": "python",
   "name": "python3"
  },
  "language_info": {
   "codemirror_mode": {
    "name": "ipython",
    "version": 3
   },
   "file_extension": ".py",
   "mimetype": "text/x-python",
   "name": "python",
   "nbconvert_exporter": "python",
   "pygments_lexer": "ipython3",
   "version": "3.8.8"
  }
 },
 "nbformat": 4,
 "nbformat_minor": 5
}
